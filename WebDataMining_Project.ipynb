{
  "nbformat": 4,
  "nbformat_minor": 0,
  "metadata": {
    "colab": {
      "provenance": [],
      "collapsed_sections": [
        "88tcO90Fr7Js",
        "Xcz0hN-sr-R4",
        "V4kRR1r2tz_D",
        "qi5573ORudjM"
      ]
    },
    "kernelspec": {
      "name": "python3",
      "display_name": "Python 3"
    },
    "language_info": {
      "name": "python"
    }
  },
  "cells": [
    {
      "cell_type": "markdown",
      "source": [
        "# **Web Data Mining Project**\n",
        "\n",
        "\n",
        "Feriel Boudekhani\n",
        "Safia Aliouche"
      ],
      "metadata": {
        "id": "1n5IqjeAW7bh"
      }
    },
    {
      "cell_type": "markdown",
      "source": [
        "## **First of all lets install and upload everything we'll need**"
      ],
      "metadata": {
        "id": "Bl2vzPRTXERR"
      }
    },
    {
      "cell_type": "code",
      "execution_count": null,
      "metadata": {
        "id": "4-CW5RR7p7Tf",
        "colab": {
          "base_uri": "https://localhost:8080/"
        },
        "outputId": "f1f92577-9a40-421b-ce32-513d3204641b"
      },
      "outputs": [
        {
          "output_type": "stream",
          "name": "stdout",
          "text": [
            "Collecting rdflib\n",
            "  Downloading rdflib-7.0.0-py3-none-any.whl (531 kB)\n",
            "\u001b[2K     \u001b[90m━━━━━━━━━━━━━━━━━━━━━━━━━━━━━━━━━━━━━━━━\u001b[0m \u001b[32m531.9/531.9 kB\u001b[0m \u001b[31m10.4 MB/s\u001b[0m eta \u001b[36m0:00:00\u001b[0m\n",
            "\u001b[?25hCollecting isodate<0.7.0,>=0.6.0 (from rdflib)\n",
            "  Downloading isodate-0.6.1-py2.py3-none-any.whl (41 kB)\n",
            "\u001b[2K     \u001b[90m━━━━━━━━━━━━━━━━━━━━━━━━━━━━━━━━━━━━━━━━\u001b[0m \u001b[32m41.7/41.7 kB\u001b[0m \u001b[31m4.6 MB/s\u001b[0m eta \u001b[36m0:00:00\u001b[0m\n",
            "\u001b[?25hRequirement already satisfied: pyparsing<4,>=2.1.0 in /usr/local/lib/python3.10/dist-packages (from rdflib) (3.1.2)\n",
            "Requirement already satisfied: six in /usr/local/lib/python3.10/dist-packages (from isodate<0.7.0,>=0.6.0->rdflib) (1.16.0)\n",
            "Installing collected packages: isodate, rdflib\n",
            "Successfully installed isodate-0.6.1 rdflib-7.0.0\n"
          ]
        }
      ],
      "source": [
        "pip install rdflib"
      ]
    },
    {
      "cell_type": "code",
      "source": [
        "from rdflib import Graph, Namespace, URIRef, Literal\n",
        "from rdflib.namespace import RDF, RDFS"
      ],
      "metadata": {
        "id": "9PLPS1KQqLZo"
      },
      "execution_count": null,
      "outputs": []
    },
    {
      "cell_type": "code",
      "source": [
        "g= 0"
      ],
      "metadata": {
        "id": "98Bqttwdw0k4"
      },
      "execution_count": null,
      "outputs": []
    },
    {
      "cell_type": "code",
      "source": [
        "g = Graph()"
      ],
      "metadata": {
        "id": "M4iwEEH8qQOJ"
      },
      "execution_count": null,
      "outputs": []
    },
    {
      "cell_type": "code",
      "source": [
        "g.parse(\"/content/ontology.rdf\", format=\"xml\")"
      ],
      "metadata": {
        "colab": {
          "base_uri": "https://localhost:8080/"
        },
        "id": "OwbuoGMNqbAO",
        "outputId": "900830d7-1493-46ac-e0f8-77a00c599297"
      },
      "execution_count": null,
      "outputs": [
        {
          "output_type": "execute_result",
          "data": {
            "text/plain": [
              "<Graph identifier=Na8cb677d4ce04d50829afce4a9a026de (<class 'rdflib.graph.Graph'>)>"
            ]
          },
          "metadata": {},
          "execution_count": 111
        }
      ]
    },
    {
      "cell_type": "code",
      "source": [
        "# lets define a namespace\n",
        "onto_ns = Namespace(\"http://www.semanticweb.org/feriel/ontologies/2024/2/untitled-ontology-6#\")"
      ],
      "metadata": {
        "id": "SOK_YJ3ftNxa"
      },
      "execution_count": null,
      "outputs": []
    },
    {
      "cell_type": "markdown",
      "source": [
        "## **Now we can start doing some queries**"
      ],
      "metadata": {
        "id": "fb6EsnFLXQNk"
      }
    },
    {
      "cell_type": "markdown",
      "source": [
        "### **List all classes in the ontology**"
      ],
      "metadata": {
        "id": "88tcO90Fr7Js"
      }
    },
    {
      "cell_type": "code",
      "source": [
        "query = \"\"\"\n",
        "    SELECT ?class\n",
        "    WHERE {\n",
        "        ?class a owl:Class .\n",
        "    }\n",
        "\"\"\"\n",
        "\n",
        "results = g.query(query)\n",
        "for row in results:\n",
        "    print(row)"
      ],
      "metadata": {
        "colab": {
          "base_uri": "https://localhost:8080/"
        },
        "id": "LZBBOv5uqdrl",
        "outputId": "dadf93fd-4af7-4096-f8a4-19fb667e241a"
      },
      "execution_count": null,
      "outputs": [
        {
          "output_type": "stream",
          "name": "stdout",
          "text": [
            "(rdflib.term.URIRef('http://www.semanticweb.org/feriel/ontologies/2024/2/untitled-ontology-6#Burger'),)\n",
            "(rdflib.term.URIRef('http://www.semanticweb.org/feriel/ontologies/2024/2/untitled-ontology-6#Customer'),)\n",
            "(rdflib.term.URIRef('http://www.semanticweb.org/feriel/ontologies/2024/2/untitled-ontology-6#FoodProduct'),)\n",
            "(rdflib.term.URIRef('http://www.semanticweb.org/feriel/ontologies/2024/2/untitled-ontology-6#Halal'),)\n",
            "(rdflib.term.URIRef('http://www.semanticweb.org/feriel/ontologies/2024/2/untitled-ontology-6#Normal'),)\n",
            "(rdflib.term.URIRef('http://www.semanticweb.org/feriel/ontologies/2024/2/untitled-ontology-6#Pasta'),)\n",
            "(rdflib.term.URIRef('http://www.semanticweb.org/feriel/ontologies/2024/2/untitled-ontology-6#Pizza'),)\n",
            "(rdflib.term.URIRef('http://www.semanticweb.org/feriel/ontologies/2024/2/untitled-ontology-6#Premium'),)\n",
            "(rdflib.term.URIRef('http://www.semanticweb.org/feriel/ontologies/2024/2/untitled-ontology-6#Restaurant'),)\n",
            "(rdflib.term.URIRef('http://www.semanticweb.org/feriel/ontologies/2024/2/untitled-ontology-6#Veggie'),)\n"
          ]
        }
      ]
    },
    {
      "cell_type": "markdown",
      "source": [
        "### **List all the premium customers**"
      ],
      "metadata": {
        "id": "Xcz0hN-sr-R4"
      }
    },
    {
      "cell_type": "code",
      "source": [
        "query = \"\"\"\n",
        "SELECT ?premiumCustomer\n",
        "WHERE {\n",
        "    ?premiumCustomer rdf:type onto_ns:Premium .\n",
        "}\n",
        "\"\"\"\n",
        "\n",
        "results = g.query(query, initNs={\"onto_ns\": \"http://www.semanticweb.org/feriel/ontologies/2024/2/untitled-ontology-6#\"})\n",
        "for row in results:\n",
        "    print(row)"
      ],
      "metadata": {
        "colab": {
          "base_uri": "https://localhost:8080/"
        },
        "id": "Uz6a-oIYs3wY",
        "outputId": "f020e292-3789-4ede-cf5f-0f7ba8d1a793"
      },
      "execution_count": null,
      "outputs": [
        {
          "output_type": "stream",
          "name": "stdout",
          "text": [
            "(rdflib.term.URIRef('http://www.semanticweb.org/feriel/ontologies/2024/2/untitled-ontology-6#Elie'),)\n",
            "(rdflib.term.URIRef('http://www.semanticweb.org/feriel/ontologies/2024/2/untitled-ontology-6#Noémie'),)\n"
          ]
        }
      ]
    },
    {
      "cell_type": "markdown",
      "source": [
        "### **List all the types of pizza**"
      ],
      "metadata": {
        "id": "V4kRR1r2tz_D"
      }
    },
    {
      "cell_type": "code",
      "source": [
        "query = \"\"\"\n",
        "SELECT ?pastaType\n",
        "WHERE {\n",
        "    ?pastaType rdf:type onto_ns:Pizza .\n",
        "}\n",
        "\"\"\"\n",
        "\n",
        "results = g.query(query, initNs={\"onto_ns\": \"http://www.semanticweb.org/feriel/ontologies/2024/2/untitled-ontology-6#\"})\n",
        "for row in results:\n",
        "    print(row)"
      ],
      "metadata": {
        "colab": {
          "base_uri": "https://localhost:8080/"
        },
        "id": "V3x0FxPOtwAz",
        "outputId": "6ffcb6bb-a7c2-4393-e716-692039bf21c6"
      },
      "execution_count": null,
      "outputs": [
        {
          "output_type": "stream",
          "name": "stdout",
          "text": [
            "(rdflib.term.URIRef('http://www.semanticweb.org/feriel/ontologies/2024/2/untitled-ontology-6#Margharita'),)\n",
            "(rdflib.term.URIRef('http://www.semanticweb.org/feriel/ontologies/2024/2/untitled-ontology-6#Reine'),)\n",
            "(rdflib.term.URIRef('http://www.semanticweb.org/feriel/ontologies/2024/2/untitled-ontology-6#Salmon'),)\n"
          ]
        }
      ]
    },
    {
      "cell_type": "markdown",
      "source": [
        "### **Now let's populate the data properties to make sure that each restaurant has a customer rate**"
      ],
      "metadata": {
        "id": "qi5573ORudjM"
      }
    },
    {
      "cell_type": "code",
      "source": [
        "# list of all the restaurants without distinguishing the type (both halal and veg restaurants here)\n",
        "all_restaurants = [\n",
        "    (\"Faceboof\", 3.5),\n",
        "    (\"La Goute d'Or\", 4.0),\n",
        "    (\"O12\", 3.8),\n",
        "    (\"MacBob\", 3.9),\n",
        "    (\"Plaisirs_d'Orient\", 4.8),\n",
        "    (\"Paradis_du_Fruit\", 4.7),\n",
        "    (\"du_verre_dans_l'assiette\", 4.3),\n",
        "    (\"O'vert\", 3.9),\n",
        "]\n",
        "\n",
        "# Function to populate restaurants with their ratings\n",
        "def populate_restaurants(restaurants_list, restaurant_type):\n",
        "    for restaurant, rating in restaurants_list:\n",
        "        restaurant_uri = onto_ns[restaurant.replace(\" \", \"_\")]  # Convert restaurant name to URI format\n",
        "        g.add((restaurant_uri, RDF.type, onto_ns.Restaurant))\n",
        "        g.add((restaurant_uri, RDF.type, onto_ns[restaurant_type]))\n",
        "        g.add((restaurant_uri, onto_ns.name, Literal(restaurant)))\n",
        "        g.add((restaurant_uri, onto_ns.hasRating, Literal(rating)))\n",
        "\n",
        "# Populate all restaurants\n",
        "populate_restaurants(all_restaurants, \"Halal\")\n",
        "populate_restaurants(all_restaurants, \"Veggie\")\n"
      ],
      "metadata": {
        "id": "F2v1w1Vgu4kQ"
      },
      "execution_count": null,
      "outputs": []
    },
    {
      "cell_type": "markdown",
      "source": [
        "**List all the restaurants and their ratings**"
      ],
      "metadata": {
        "id": "VpouZiNCrozq"
      }
    },
    {
      "cell_type": "code",
      "source": [
        "query = '''\n",
        "    PREFIX rdf: <http://www.w3.org/1999/02/22-rdf-syntax-ns#>\n",
        "    PREFIX onto: <http://www.semanticweb.org/feriel/ontologies/2024/2/untitled-ontology-6#>\n",
        "\n",
        "    SELECT ?restaurant ?rating\n",
        "    WHERE {\n",
        "        ?restaurant rdf:type onto:Restaurant .\n",
        "        ?restaurant onto:hasRating ?rating .\n",
        "    }\n",
        "'''\n",
        "\n",
        "results = g.query(query)\n",
        "for row in results:\n",
        "    print(row)"
      ],
      "metadata": {
        "colab": {
          "base_uri": "https://localhost:8080/"
        },
        "id": "I7dIMFzIrG-4",
        "outputId": "99466698-9ee3-4934-b456-a523ffd16f68"
      },
      "execution_count": null,
      "outputs": [
        {
          "output_type": "stream",
          "name": "stdout",
          "text": [
            "(rdflib.term.URIRef('http://www.semanticweb.org/feriel/ontologies/2024/2/untitled-ontology-6#Faceboof'), rdflib.term.Literal('3.5', datatype=rdflib.term.URIRef('http://www.w3.org/2001/XMLSchema#double')))\n",
            "(rdflib.term.URIRef(\"http://www.semanticweb.org/feriel/ontologies/2024/2/untitled-ontology-6#La_Goute_d'Or\"), rdflib.term.Literal('4.0', datatype=rdflib.term.URIRef('http://www.w3.org/2001/XMLSchema#double')))\n",
            "(rdflib.term.URIRef('http://www.semanticweb.org/feriel/ontologies/2024/2/untitled-ontology-6#O12'), rdflib.term.Literal('3.8', datatype=rdflib.term.URIRef('http://www.w3.org/2001/XMLSchema#double')))\n",
            "(rdflib.term.URIRef('http://www.semanticweb.org/feriel/ontologies/2024/2/untitled-ontology-6#MacBob'), rdflib.term.Literal('3.9', datatype=rdflib.term.URIRef('http://www.w3.org/2001/XMLSchema#double')))\n",
            "(rdflib.term.URIRef(\"http://www.semanticweb.org/feriel/ontologies/2024/2/untitled-ontology-6#Plaisirs_d'Orient\"), rdflib.term.Literal('4.8', datatype=rdflib.term.URIRef('http://www.w3.org/2001/XMLSchema#double')))\n",
            "(rdflib.term.URIRef('http://www.semanticweb.org/feriel/ontologies/2024/2/untitled-ontology-6#Paradis_du_Fruit'), rdflib.term.Literal('4.7', datatype=rdflib.term.URIRef('http://www.w3.org/2001/XMLSchema#double')))\n",
            "(rdflib.term.URIRef(\"http://www.semanticweb.org/feriel/ontologies/2024/2/untitled-ontology-6#du_verre_dans_l'assiette\"), rdflib.term.Literal('4.3', datatype=rdflib.term.URIRef('http://www.w3.org/2001/XMLSchema#double')))\n",
            "(rdflib.term.URIRef(\"http://www.semanticweb.org/feriel/ontologies/2024/2/untitled-ontology-6#O'vert\"), rdflib.term.Literal('3.9', datatype=rdflib.term.URIRef('http://www.w3.org/2001/XMLSchema#double')))\n"
          ]
        }
      ]
    },
    {
      "cell_type": "markdown",
      "source": [
        "**List all the restaurants that have a rate of 4 or more**"
      ],
      "metadata": {
        "id": "ztDBHVsCwnri"
      }
    },
    {
      "cell_type": "code",
      "source": [
        "query = \"\"\"\n",
        "PREFIX rdf: <http://www.w3.org/1999/02/22-rdf-syntax-ns#>\n",
        "PREFIX onto: <http://www.semanticweb.org/feriel/ontologies/2024/2/untitled-ontology-6#>\n",
        "\n",
        "SELECT ?restaurant ?rating\n",
        "WHERE {\n",
        "    ?restaurant rdf:type onto:Restaurant .\n",
        "    ?restaurant onto:hasRating ?rating .\n",
        "    ?restaurant onto:name ?name .\n",
        "    FILTER (?rating >= 4.0)\n",
        "}\n",
        "\"\"\"\n",
        "\n",
        "# Prepare and execute the query\n",
        "\n",
        "results = g.query(query)\n",
        "\n",
        "# Print the results\n",
        "for row in results:\n",
        "    print(row)"
      ],
      "metadata": {
        "colab": {
          "base_uri": "https://localhost:8080/"
        },
        "id": "-hvWwtIDv8_h",
        "outputId": "7615f7bb-b1b5-4f68-fb03-6d16f4b18079"
      },
      "execution_count": null,
      "outputs": [
        {
          "output_type": "stream",
          "name": "stdout",
          "text": [
            "(rdflib.term.URIRef(\"http://www.semanticweb.org/feriel/ontologies/2024/2/untitled-ontology-6#La_Goute_d'Or\"), rdflib.term.Literal('4.0', datatype=rdflib.term.URIRef('http://www.w3.org/2001/XMLSchema#double')))\n",
            "(rdflib.term.URIRef(\"http://www.semanticweb.org/feriel/ontologies/2024/2/untitled-ontology-6#Plaisirs_d'Orient\"), rdflib.term.Literal('4.8', datatype=rdflib.term.URIRef('http://www.w3.org/2001/XMLSchema#double')))\n",
            "(rdflib.term.URIRef('http://www.semanticweb.org/feriel/ontologies/2024/2/untitled-ontology-6#Paradis_du_Fruit'), rdflib.term.Literal('4.7', datatype=rdflib.term.URIRef('http://www.w3.org/2001/XMLSchema#double')))\n",
            "(rdflib.term.URIRef(\"http://www.semanticweb.org/feriel/ontologies/2024/2/untitled-ontology-6#du_verre_dans_l'assiette\"), rdflib.term.Literal('4.3', datatype=rdflib.term.URIRef('http://www.w3.org/2001/XMLSchema#double')))\n"
          ]
        }
      ]
    },
    {
      "cell_type": "markdown",
      "source": [
        "### **Let's attribute adresses to the different customers**"
      ],
      "metadata": {
        "id": "mzx27ZeIVhga"
      }
    },
    {
      "cell_type": "code",
      "source": [
        "# List of all customers with their corresponding addresses\n",
        "addresses = {\n",
        "    \"Andrea\": \"92\",\n",
        "    \"Elie\": \"93\",\n",
        "    \"Noémie\": \"75\",\n",
        "    \"Paul\": \"91\",\n",
        "    \"Pierre\": \"75\"\n",
        "}\n",
        "\n",
        "# Function to populate customers with their addresses\n",
        "def populate_addresses(addresses):\n",
        "    for customer, address in addresses.items():\n",
        "        customer_uri = onto_ns[customer.replace(\" \", \"_\")]  # Convert customer name to URI format\n",
        "        address_uri = onto_ns[address]  # Convert address to URI format\n",
        "        g.add((customer_uri, RDF.type, onto_ns.Customer))\n",
        "        g.add((customer_uri, onto_ns.hasDeliveryAdress, address_uri))\n",
        "\n",
        "# Populate customers with addresses\n",
        "populate_addresses(addresses)\n"
      ],
      "metadata": {
        "id": "zc7RrD3r5di9"
      },
      "execution_count": null,
      "outputs": []
    },
    {
      "cell_type": "markdown",
      "source": [
        "**Let's add a new Customer**"
      ],
      "metadata": {
        "id": "uErbFR9zsOI7"
      }
    },
    {
      "cell_type": "code",
      "source": [
        "# Customer details\n",
        "customers_details = [\n",
        "    {\"name\": \"Feriel\", \"address\": \"91\", \"type\": \"Premium\"},\n",
        "    {\"name\": \"Safia\", \"address\": \"92\", \"type\": \"Premium\"}\n",
        "]\n",
        "\n",
        "# Loop through each customer details\n",
        "for customer_detail in customers_details:\n",
        "    new_customer_name = customer_detail[\"name\"]\n",
        "    new_customer_address = customer_detail[\"address\"]\n",
        "    customer_type = customer_detail[\"type\"]\n",
        "\n",
        "    # URI format\n",
        "    new_customer_uri = onto_ns[new_customer_name.replace(\" \", \"_\")]\n",
        "    new_address_uri = onto_ns[new_customer_address]\n",
        "\n",
        "    g.add((new_customer_uri, RDF.type, onto_ns.Customer))\n",
        "    g.add((new_customer_uri, onto_ns.hasDeliveryAdress, new_address_uri))\n",
        "\n",
        "    if customer_type == \"Premium\":\n",
        "        g.add((new_customer_uri, RDF.type, onto_ns.Premium))\n",
        "    elif customer_type == \"Normal\":\n",
        "        g.add((new_customer_uri, RDF.type, onto_ns.Normal))\n"
      ],
      "metadata": {
        "id": "iJcXTssQsN0V"
      },
      "execution_count": null,
      "outputs": []
    },
    {
      "cell_type": "markdown",
      "source": [
        "**Count the number of customers**"
      ],
      "metadata": {
        "id": "w_jxoSGhsHVP"
      }
    },
    {
      "cell_type": "code",
      "source": [
        "query = '''\n",
        "    PREFIX rdf: <http://www.w3.org/1999/02/22-rdf-syntax-ns#>\n",
        "    PREFIX onto: <http://www.semanticweb.org/feriel/ontologies/2024/2/untitled-ontology-6#>\n",
        "\n",
        "    SELECT (COUNT(?customer) AS ?count)\n",
        "    WHERE {\n",
        "        ?customer rdf:type onto:Customer .\n",
        "    }\n",
        "'''\n",
        "\n",
        "results = g.query(query)\n",
        "for row in results:\n",
        "    count = row['count']\n",
        "    print(\"Number of customers:\", count)\n"
      ],
      "metadata": {
        "colab": {
          "base_uri": "https://localhost:8080/"
        },
        "id": "nFDuxYFprzOT",
        "outputId": "ba225e69-6960-4a1e-82b3-91c6fd52c758"
      },
      "execution_count": null,
      "outputs": [
        {
          "output_type": "stream",
          "name": "stdout",
          "text": [
            "Number of customers: 7\n"
          ]
        }
      ]
    },
    {
      "cell_type": "markdown",
      "source": [
        "**Customers and their adress :**"
      ],
      "metadata": {
        "id": "FDqd8qxAVS2Y"
      }
    },
    {
      "cell_type": "code",
      "source": [
        "query = '''\n",
        "    PREFIX rdf: <http://www.w3.org/1999/02/22-rdf-syntax-ns#>\n",
        "    PREFIX onto: <http://www.semanticweb.org/feriel/ontologies/2024/2/untitled-ontology-6#>\n",
        "\n",
        "    SELECT ?customer ?address\n",
        "    WHERE {\n",
        "        ?customer rdf:type onto:Customer .\n",
        "        ?customer onto:hasDeliveryAdress ?address .\n",
        "    }\n",
        "'''\n",
        "\n",
        "results = g.query(query)\n",
        "for row in results:\n",
        "    print(row.customer, row.address)"
      ],
      "metadata": {
        "colab": {
          "base_uri": "https://localhost:8080/"
        },
        "id": "nzXv8fWoRlKj",
        "outputId": "4612515d-97aa-448e-fae3-94876d219411"
      },
      "execution_count": null,
      "outputs": [
        {
          "output_type": "stream",
          "name": "stdout",
          "text": [
            "http://www.semanticweb.org/feriel/ontologies/2024/2/untitled-ontology-6#Andrea http://www.semanticweb.org/feriel/ontologies/2024/2/untitled-ontology-6#92\n",
            "http://www.semanticweb.org/feriel/ontologies/2024/2/untitled-ontology-6#Elie http://www.semanticweb.org/feriel/ontologies/2024/2/untitled-ontology-6#93\n",
            "http://www.semanticweb.org/feriel/ontologies/2024/2/untitled-ontology-6#Noémie http://www.semanticweb.org/feriel/ontologies/2024/2/untitled-ontology-6#75\n",
            "http://www.semanticweb.org/feriel/ontologies/2024/2/untitled-ontology-6#Paul http://www.semanticweb.org/feriel/ontologies/2024/2/untitled-ontology-6#91\n",
            "http://www.semanticweb.org/feriel/ontologies/2024/2/untitled-ontology-6#Pierre http://www.semanticweb.org/feriel/ontologies/2024/2/untitled-ontology-6#75\n",
            "http://www.semanticweb.org/feriel/ontologies/2024/2/untitled-ontology-6#Feriel http://www.semanticweb.org/feriel/ontologies/2024/2/untitled-ontology-6#91\n",
            "http://www.semanticweb.org/feriel/ontologies/2024/2/untitled-ontology-6#Safia http://www.semanticweb.org/feriel/ontologies/2024/2/untitled-ontology-6#92\n"
          ]
        }
      ]
    },
    {
      "cell_type": "markdown",
      "source": [
        "### **List all the premium customers**"
      ],
      "metadata": {
        "id": "Y8qgtetuw7KC"
      }
    },
    {
      "cell_type": "code",
      "source": [
        "query = \"\"\"\n",
        "SELECT ?premiumCustomer\n",
        "WHERE {\n",
        "    ?premiumCustomer rdf:type onto_ns:Premium .\n",
        "}\n",
        "\"\"\"\n",
        "\n",
        "results = g.query(query, initNs={\"onto_ns\": \"http://www.semanticweb.org/feriel/ontologies/2024/2/untitled-ontology-6#\"})\n",
        "for row in results:\n",
        "    print(row)"
      ],
      "metadata": {
        "colab": {
          "base_uri": "https://localhost:8080/"
        },
        "outputId": "3b5f08aa-cf15-438a-d8b5-ffe1f475ba6e",
        "id": "hArYCOfgw7KI"
      },
      "execution_count": null,
      "outputs": [
        {
          "output_type": "stream",
          "name": "stdout",
          "text": [
            "(rdflib.term.URIRef('http://www.semanticweb.org/feriel/ontologies/2024/2/untitled-ontology-6#Elie'),)\n",
            "(rdflib.term.URIRef('http://www.semanticweb.org/feriel/ontologies/2024/2/untitled-ontology-6#Noémie'),)\n",
            "(rdflib.term.URIRef('http://www.semanticweb.org/feriel/ontologies/2024/2/untitled-ontology-6#Feriel'),)\n",
            "(rdflib.term.URIRef('http://www.semanticweb.org/feriel/ontologies/2024/2/untitled-ontology-6#Safia'),)\n"
          ]
        }
      ]
    },
    {
      "cell_type": "markdown",
      "source": [
        "Now we have two more premium customers now, compared to the begining of our study."
      ],
      "metadata": {
        "id": "f3HbRONCw9Jq"
      }
    }
  ]
}